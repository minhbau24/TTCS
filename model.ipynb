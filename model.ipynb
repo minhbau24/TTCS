{
 "cells": [
  {
   "cell_type": "code",
   "execution_count": 1,
   "id": "15e27089",
   "metadata": {},
   "outputs": [],
   "source": [
    "from d2l import mxnet as d2l\n",
    "from mxnet import autograd, gluon, np, npx\n",
    "from mxnet.gluon import nn\n",
    "import mxnet as mx\n",
    "import random\n",
    "import sys\n",
    "npx.set_np()"
   ]
  },
  {
   "cell_type": "code",
   "execution_count": 3,
   "id": "01051fee",
   "metadata": {},
   "outputs": [],
   "source": [
    "from mxnet import np, npx\n",
    "from mxnet.gluon import nn, Block\n",
    "\n",
    "npx.set_np()\n",
    "\n",
    "class NeuMF(nn.Block):\n",
    "    def __init__(self, num_factors, num_users, num_items, nums_hiddens, **kwargs):\n",
    "        super(NeuMF, self).__init__(**kwargs)\n",
    "\n",
    "        # Embedding cho GMF\n",
    "        self.P = nn.Embedding(num_users, num_factors)\n",
    "        self.Q = nn.Embedding(num_items, num_factors)\n",
    "\n",
    "        # Embedding cho MLP\n",
    "        self.U = nn.Embedding(num_users, num_factors)\n",
    "        self.V = nn.Embedding(num_items, num_factors)\n",
    "\n",
    "        # MLP layers\n",
    "        self.mlp = nn.Sequential()\n",
    "        for num_hiddens in nums_hiddens:\n",
    "            self.mlp.add(nn.Dense(num_hiddens, activation='relu', use_bias=True))\n",
    "\n",
    "        # Lớp dự đoán cuối cùng\n",
    "        self.prediction_layer = nn.Dense(1, activation='sigmoid', use_bias=False)\n",
    "\n",
    "    def forward(self, user_id, item_id):\n",
    "        # GMF: Nhân từng phần tử giữa hai embedding\n",
    "        p_mf = self.P(user_id)\n",
    "        q_mf = self.Q(item_id)\n",
    "        gmf = p_mf * q_mf\n",
    "\n",
    "        # MLP: Nối hai embedding và đưa vào MLP\n",
    "        p_mlp = self.U(user_id)\n",
    "        q_mlp = self.V(item_id)\n",
    "        mlp_input = np.concatenate([p_mlp, q_mlp], axis=1)\n",
    "        mlp_output = self.mlp(mlp_input)\n",
    "\n",
    "        # Nối đầu ra của GMF và MLP\n",
    "        concat = np.concatenate([gmf, mlp_output], axis=1)\n",
    "\n",
    "        # Dự đoán xác suất\n",
    "        return self.prediction_layer(concat)\n"
   ]
  },
  {
   "cell_type": "code",
   "execution_count": 4,
   "id": "5fe72667",
   "metadata": {},
   "outputs": [],
   "source": [
    "import random\n",
    "from mxnet.gluon import data\n",
    "\n",
    "class PRDataset(data.Dataset):\n",
    "    def __init__(self, users, items, candidates, num_items):\n",
    "        self.users = users\n",
    "        self.items = items\n",
    "        self.cand = candidates\n",
    "        self.all = set(range(num_items))  # Sử dụng range thay vì list cho hiệu suất tốt hơn\n",
    "\n",
    "    def __len__(self):\n",
    "        return len(self.users)\n",
    "\n",
    "    def __getitem__(self, idx):\n",
    "        # Lấy các sản phẩm chưa được tương tác (sản phẩm âm)\n",
    "        neg_items = list(self.all - set(self.cand[int(self.users[idx])]))\n",
    "        # Chọn ngẫu nhiên một sản phẩm âm từ neg_items\n",
    "        neg_item = random.choice(neg_items)\n",
    "        return self.users[idx], self.items[idx], neg_item\n"
   ]
  }
 ],
 "metadata": {
  "kernelspec": {
   "display_name": "model",
   "language": "python",
   "name": "python3"
  },
  "language_info": {
   "codemirror_mode": {
    "name": "ipython",
    "version": 3
   },
   "file_extension": ".py",
   "mimetype": "text/x-python",
   "name": "python",
   "nbconvert_exporter": "python",
   "pygments_lexer": "ipython3",
   "version": "3.6.15"
  }
 },
 "nbformat": 4,
 "nbformat_minor": 5
}
